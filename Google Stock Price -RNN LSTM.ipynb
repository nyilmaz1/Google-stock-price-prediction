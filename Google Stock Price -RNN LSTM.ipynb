{
 "cells": [
  {
   "cell_type": "markdown",
   "metadata": {},
   "source": [
    "LSTM model that will try to predict downward and upward trends of the Google stock price. We are going to train our model on the  5 year Google stock price (from beginning of 2012 to the end of 2016). We will try to predict the January 2017 stock price upward/downward trends."
   ]
  },
  {
   "cell_type": "markdown",
   "metadata": {},
   "source": [
    "### 1) Data preprocessing  \n",
    "### 2) Building the RNN\n",
    "### 3) Making the predictions and visualizing the results"
   ]
  },
  {
   "cell_type": "markdown",
   "metadata": {},
   "source": [
    "# Part 1: Data Preprocessing:"
   ]
  },
  {
   "cell_type": "code",
   "execution_count": 1,
   "metadata": {},
   "outputs": [],
   "source": [
    "#1.1: IMPORTING THE LIBRARIES\n",
    "import numpy as np #we will make arrays. they are the only allowed inputs\n",
    "import matplotlib.pyplot as plt\n",
    "import pandas as pd"
   ]
  },
  {
   "cell_type": "code",
   "execution_count": 2,
   "metadata": {},
   "outputs": [],
   "source": [
    "#1.2: IMPORT THE TRAINING SET:\n",
    "dataset_train = pd.read_csv('Google_Stock_Price_Train.csv')\n",
    "training_set = dataset_train.iloc[:, 1:2].values\n",
    "# dataset_train: we only need the second column (open = [1]) to train our dataset.\n",
    "#.iloc[:, 1:2].values: means all rows and and first column\n",
    "#1:2: if we just use 1 here, instead of 1:2, we create an array with 1 row. so all the column information is becomes one row. We don't want that\n",
    "#.values provides us to turn this data frame into a numpy array. without it the output is still a dataframe"
   ]
  },
  {
   "cell_type": "code",
   "execution_count": 3,
   "metadata": {},
   "outputs": [],
   "source": [
    "# 1.3: FEATURE SCALING:\n",
    "# we use normalisation scaling technique, instead of standardisation. This is recommended in this type of analysis\n",
    "# whenever you build an RNN, especially when the sigmoid function is the activation function, use normalisation\n",
    "from sklearn.preprocessing import MinMaxScaler\n",
    "sc = MinMaxScaler(feature_range = (0, 1))\n",
    "#feature range = (0,1) is the default. because all the new/normalized stock prices will be between 0 and 1\n",
    "training_set_scaled = sc.fit_transform(training_set)"
   ]
  },
  {
   "cell_type": "code",
   "execution_count": 4,
   "metadata": {},
   "outputs": [],
   "source": [
    "# 1.4: CREATING A DATA STRUCTURE WITH 60 TIMESTEPS AND 1 OUTPUT\n",
    "# we are going to create a data structure specifying what the RNN will need to remember when predicting the next stock price\n",
    "#and this is called the number of timesteps. this is super important to have the correct number of timestamps cause it could lead to overfitting\n",
    "# 60 timesteps mean that at each time t the RNN is going to look at 60 stock prices before time t\n",
    "# the stock price is between 60 days before time t and time t. \n",
    "#based on the trends it's capturing during this 60 days timesteps, it will try to predict the next output\n",
    "# 60 is the experimented timestep for this prediction\n",
    "X_train = []\n",
    "y_train = []\n",
    "for i in range(60, 1258):\n",
    "    X_train.append(training_set_scaled[i-60:i, 0])\n",
    "    y_train.append(training_set_scaled[i, 0])\n",
    "X_train, y_train = np.array(X_train), np.array(y_train)\n",
    "\n",
    "# X_train is the input \n",
    "# y_train is the output\n",
    "# range(60, 1258): between 60th financial day and 1258 is the last index in our set\n"
   ]
  },
  {
   "cell_type": "code",
   "execution_count": 5,
   "metadata": {},
   "outputs": [],
   "source": [
    "# 1.5: RESHAPING:\n",
    "X_train = np.reshape(X_train, (X_train.shape[0], X_train.shape[1], 1))\n",
    "#input shape: the input should be a 3d array\n",
    "#adding some more dimensionality. we will add the unit. \n",
    "#that is the number of predictors we want\n",
    "#X_train.shape[0]: batch size= the number of observations. 1198 observations. you can have this in any dataset. because this line gives the number of rows\n",
    "#X_train.shape[1]: number of timesteps: this is the number of columns\n",
    "#1: number of indicators= number of predictors\n"
   ]
  },
  {
   "cell_type": "markdown",
   "metadata": {},
   "source": [
    "# Part 2: Building the RNN:"
   ]
  },
  {
   "cell_type": "code",
   "execution_count": 6,
   "metadata": {},
   "outputs": [
    {
     "name": "stderr",
     "output_type": "stream",
     "text": [
      "Using TensorFlow backend.\n"
     ]
    }
   ],
   "source": [
    "# 2.1: IMPORTING KERAS LIBRARIES AND PACKAGES:\n",
    "from keras.models import Sequential # allow us to create a neural network object representing a sequence of layers\n",
    "from keras.layers import Dense #to add the output layer \n",
    "from keras.layers import LSTM # to add LSTM layer\n",
    "from keras.layers import Dropout #to add some dropout regularization"
   ]
  },
  {
   "cell_type": "code",
   "execution_count": 7,
   "metadata": {},
   "outputs": [],
   "source": [
    "# 2.2: INITIALISING THE RNN:\n",
    "regressor = Sequential()\n",
    "#since we are predicting a continous value, we are doing some regression. therefore we use the name regressor for our model. \n",
    "#classification, on the other hand, is about predicting a category."
   ]
  },
  {
   "cell_type": "code",
   "execution_count": 9,
   "metadata": {},
   "outputs": [],
   "source": [
    "# 2.3: ADDING THE FIRST LSTM LAYER AND SOME DROPOUT REGULARIZATION:\n",
    "regressor.add(LSTM(units = 50, return_sequences = True, input_shape = (X_train.shape[1], 1)))  \n",
    "regressor.add(Dropout(0.2))\n",
    "#arguments:\n",
    "#units: the number of LSTM cells, or memory units (neurons) you want to have in this LSTM layer. \n",
    "# 50 neurons in this layer will get us a model with high dimentiality\n",
    "# return_sequences: it's true because we are building a stacked LSTM which therefore have several LSTM layers\n",
    "#return sequences is true because we are adding another LSTM layer = making a stacked LSTM\n",
    "# once you are done with the LSTM layers, when you are not going to add another one, you will set it to false. false is the default value \n",
    "# input_shape: the shape of the input that we created in the last part\n",
    "#it's an input shape of three dimensions, corresponding to observations(number of rows), the timestep (number of columns) and the indicators.\n",
    "#we don't have to include all the three dimensions \"(X_train.shape[0], X_train.shape[1], 1)\" we will just add the last two. \n",
    "#because the first one is corresponding to the observations, will be automatically taken into account\n",
    "# Dropout(0.2): the rate of neurons, you want to ignore in the layers. 0.2 is used generally. 20% dropout"
   ]
  },
  {
   "cell_type": "code",
   "execution_count": 10,
   "metadata": {},
   "outputs": [],
   "source": [
    "#2.4: ADDING THE SECOND, THIRD AND FOURTH LSTM LAYERS AND DROPOUTS:\n",
    "\n",
    "# Adding a second LSTM layer and some Dropout regularization\n",
    "regressor.add(LSTM(units = 50, return_sequences = True))\n",
    "regressor.add(Dropout(0.2))\n",
    "# we only specify the shape of the input in the first layer\n",
    "\n",
    "# Adding a third LSTM layer and some Dropout regularization\n",
    "regressor.add(LSTM(units = 50, return_sequences = True))\n",
    "regressor.add(Dropout(0.2))\n",
    "\n",
    "# Adding a fourth LSTM layer and some Dropout regularization\n",
    "regressor.add(LSTM(units = 50))\n",
    "regressor.add(Dropout(0.2))\n"
   ]
  },
  {
   "cell_type": "code",
   "execution_count": 12,
   "metadata": {},
   "outputs": [],
   "source": [
    "# 2.5: ADDING THE OUTPUT LAYER:\n",
    "regressor.add(Dense(units = 1))\n",
    "# to make a full connection with the last lstm layer and the output, we use the dense class\n",
    "#unit =1 the number of neurons that needs to be in the output\n",
    "#since we're predicting a real value corresponding to the stock price, the output has only one dimension (neuron).\n"
   ]
  },
  {
   "cell_type": "code",
   "execution_count": 13,
   "metadata": {},
   "outputs": [],
   "source": [
    "#2.6: COMPILING THE RNN WITH THE OPTIMIZER AND THE LOSS:\n",
    "regressor.compile(optimizer = 'adam', loss = 'mean_squared_error')\n",
    "#compile is a method of sequential class\n",
    "#mean_squared_error is good for regression"
   ]
  },
  {
   "cell_type": "code",
   "execution_count": 14,
   "metadata": {},
   "outputs": [
    {
     "name": "stdout",
     "output_type": "stream",
     "text": [
      "Epoch 1/100\n",
      "1198/1198 [==============================] - 12s 10ms/step - loss: 0.0582\n",
      "Epoch 2/100\n",
      "1198/1198 [==============================] - 10s 8ms/step - loss: 0.0063\n",
      "Epoch 3/100\n",
      "1198/1198 [==============================] - 10s 8ms/step - loss: 0.0059\n",
      "Epoch 4/100\n",
      "1198/1198 [==============================] - 10s 8ms/step - loss: 0.0060\n",
      "Epoch 5/100\n",
      "1198/1198 [==============================] - 10s 8ms/step - loss: 0.0057\n",
      "Epoch 6/100\n",
      "1198/1198 [==============================] - 11s 9ms/step - loss: 0.0047\n",
      "Epoch 7/100\n",
      "1198/1198 [==============================] - 12s 10ms/step - loss: 0.0051\n",
      "Epoch 8/100\n",
      "1198/1198 [==============================] - 10s 8ms/step - loss: 0.0051\n",
      "Epoch 9/100\n",
      "1198/1198 [==============================] - 11s 9ms/step - loss: 0.0054\n",
      "Epoch 10/100\n",
      "1198/1198 [==============================] - 10s 9ms/step - loss: 0.0043\n",
      "Epoch 11/100\n",
      "1198/1198 [==============================] - 10s 9ms/step - loss: 0.0038\n",
      "Epoch 12/100\n",
      "1198/1198 [==============================] - 10s 9ms/step - loss: 0.0042\n",
      "Epoch 13/100\n",
      "1198/1198 [==============================] - 11s 9ms/step - loss: 0.0038\n",
      "Epoch 14/100\n",
      "1198/1198 [==============================] - 12s 10ms/step - loss: 0.0037\n",
      "Epoch 15/100\n",
      "1198/1198 [==============================] - 11s 9ms/step - loss: 0.0038\n",
      "Epoch 16/100\n",
      "1198/1198 [==============================] - 10s 8ms/step - loss: 0.0037\n",
      "Epoch 17/100\n",
      "1198/1198 [==============================] - 10s 8ms/step - loss: 0.0035\n",
      "Epoch 18/100\n",
      "1198/1198 [==============================] - 10s 8ms/step - loss: 0.0033\n",
      "Epoch 19/100\n",
      "1198/1198 [==============================] - 10s 9ms/step - loss: 0.0033\n",
      "Epoch 20/100\n",
      "1198/1198 [==============================] - 11s 9ms/step - loss: 0.0034\n",
      "Epoch 21/100\n",
      "1198/1198 [==============================] - 11s 9ms/step - loss: 0.0029\n",
      "Epoch 22/100\n",
      "1198/1198 [==============================] - 10s 8ms/step - loss: 0.0035\n",
      "Epoch 23/100\n",
      "1198/1198 [==============================] - 10s 8ms/step - loss: 0.0029\n",
      "Epoch 24/100\n",
      "1198/1198 [==============================] - 10s 9ms/step - loss: 0.0032\n",
      "Epoch 25/100\n",
      "1198/1198 [==============================] - 10s 9ms/step - loss: 0.0031\n",
      "Epoch 26/100\n",
      "1198/1198 [==============================] - 11s 9ms/step - loss: 0.0034\n",
      "Epoch 27/100\n",
      "1198/1198 [==============================] - 10s 8ms/step - loss: 0.0029\n",
      "Epoch 28/100\n",
      "1198/1198 [==============================] - 11s 9ms/step - loss: 0.0027\n",
      "Epoch 29/100\n",
      "1198/1198 [==============================] - 11s 10ms/step - loss: 0.0027\n",
      "Epoch 30/100\n",
      "1198/1198 [==============================] - 10s 8ms/step - loss: 0.0029\n",
      "Epoch 31/100\n",
      "1198/1198 [==============================] - 12s 10ms/step - loss: 0.0032\n",
      "Epoch 32/100\n",
      "1198/1198 [==============================] - 11s 10ms/step - loss: 0.0027\n",
      "Epoch 33/100\n",
      "1198/1198 [==============================] - 11s 9ms/step - loss: 0.0026\n",
      "Epoch 34/100\n",
      "1198/1198 [==============================] - 10s 9ms/step - loss: 0.0027\n",
      "Epoch 35/100\n",
      "1198/1198 [==============================] - 10s 8ms/step - loss: 0.0027\n",
      "Epoch 36/100\n",
      "1198/1198 [==============================] - 10s 8ms/step - loss: 0.0025\n",
      "Epoch 37/100\n",
      "1198/1198 [==============================] - 10s 9ms/step - loss: 0.0024\n",
      "Epoch 38/100\n",
      "1198/1198 [==============================] - 10s 9ms/step - loss: 0.0025\n",
      "Epoch 39/100\n",
      "1198/1198 [==============================] - 10s 8ms/step - loss: 0.0023\n",
      "Epoch 40/100\n",
      "1198/1198 [==============================] - 10s 8ms/step - loss: 0.0023\n",
      "Epoch 41/100\n",
      "1198/1198 [==============================] - 10s 9ms/step - loss: 0.0022\n",
      "Epoch 42/100\n",
      "1198/1198 [==============================] - 11s 9ms/step - loss: 0.0022\n",
      "Epoch 43/100\n",
      "1198/1198 [==============================] - 10s 8ms/step - loss: 0.0024\n",
      "Epoch 44/100\n",
      "1198/1198 [==============================] - 12s 10ms/step - loss: 0.0021\n",
      "Epoch 45/100\n",
      "1198/1198 [==============================] - 10s 8ms/step - loss: 0.0028\n",
      "Epoch 46/100\n",
      "1198/1198 [==============================] - 9s 8ms/step - loss: 0.0019\n",
      "Epoch 47/100\n",
      "1198/1198 [==============================] - 10s 8ms/step - loss: 0.0021\n",
      "Epoch 48/100\n",
      "1198/1198 [==============================] - 9s 8ms/step - loss: 0.0022\n",
      "Epoch 49/100\n",
      "1198/1198 [==============================] - 9s 8ms/step - loss: 0.0023\n",
      "Epoch 50/100\n",
      "1198/1198 [==============================] - 9s 8ms/step - loss: 0.0025\n",
      "Epoch 51/100\n",
      "1198/1198 [==============================] - 9s 8ms/step - loss: 0.0019\n",
      "Epoch 52/100\n",
      "1198/1198 [==============================] - 10s 8ms/step - loss: 0.0018\n",
      "Epoch 53/100\n",
      "1198/1198 [==============================] - 10s 8ms/step - loss: 0.0022\n",
      "Epoch 54/100\n",
      "1198/1198 [==============================] - 12s 10ms/step - loss: 0.0020\n",
      "Epoch 55/100\n",
      "1198/1198 [==============================] - 9s 8ms/step - loss: 0.0019\n",
      "Epoch 56/100\n",
      "1198/1198 [==============================] - 10s 8ms/step - loss: 0.0021\n",
      "Epoch 57/100\n",
      "1198/1198 [==============================] - 9s 8ms/step - loss: 0.0018\n",
      "Epoch 58/100\n",
      "1198/1198 [==============================] - 9s 8ms/step - loss: 0.0020\n",
      "Epoch 59/100\n",
      "1198/1198 [==============================] - 11s 9ms/step - loss: 0.0019\n",
      "Epoch 60/100\n",
      "1198/1198 [==============================] - 12s 10ms/step - loss: 0.0017\n",
      "Epoch 61/100\n",
      "1198/1198 [==============================] - 10s 8ms/step - loss: 0.0016\n",
      "Epoch 62/100\n",
      "1198/1198 [==============================] - 10s 8ms/step - loss: 0.0017\n",
      "Epoch 63/100\n",
      "1198/1198 [==============================] - 10s 8ms/step - loss: 0.0017\n",
      "Epoch 64/100\n",
      "1198/1198 [==============================] - 11s 9ms/step - loss: 0.0016\n",
      "Epoch 65/100\n",
      "1198/1198 [==============================] - 11s 9ms/step - loss: 0.0018\n",
      "Epoch 66/100\n",
      "1198/1198 [==============================] - 10s 9ms/step - loss: 0.0015\n",
      "Epoch 67/100\n",
      "1198/1198 [==============================] - 12s 10ms/step - loss: 0.0016\n",
      "Epoch 68/100\n",
      "1198/1198 [==============================] - 11s 9ms/step - loss: 0.0015\n",
      "Epoch 69/100\n",
      "1198/1198 [==============================] - 12s 10ms/step - loss: 0.0016\n",
      "Epoch 70/100\n",
      "1198/1198 [==============================] - 11s 9ms/step - loss: 0.0015\n",
      "Epoch 71/100\n",
      "1198/1198 [==============================] - 11s 9ms/step - loss: 0.0015\n",
      "Epoch 72/100\n",
      "1198/1198 [==============================] - 10s 9ms/step - loss: 0.0014\n",
      "Epoch 73/100\n",
      "1198/1198 [==============================] - 10s 8ms/step - loss: 0.0016\n",
      "Epoch 74/100\n",
      "1198/1198 [==============================] - 10s 9ms/step - loss: 0.0020\n",
      "Epoch 75/100\n",
      "1198/1198 [==============================] - 10s 9ms/step - loss: 0.0017\n",
      "Epoch 76/100\n",
      "1198/1198 [==============================] - 10s 8ms/step - loss: 0.0015\n",
      "Epoch 77/100\n",
      "1198/1198 [==============================] - 10s 8ms/step - loss: 0.0014\n",
      "Epoch 78/100\n",
      "1198/1198 [==============================] - 10s 8ms/step - loss: 0.0014\n",
      "Epoch 79/100\n",
      "1198/1198 [==============================] - 10s 9ms/step - loss: 0.0016\n",
      "Epoch 80/100\n",
      "1198/1198 [==============================] - 11s 10ms/step - loss: 0.0013\n",
      "Epoch 81/100\n",
      "1198/1198 [==============================] - 12s 10ms/step - loss: 0.0015\n",
      "Epoch 82/100\n",
      "1198/1198 [==============================] - 12s 10ms/step - loss: 0.0015\n",
      "Epoch 83/100\n",
      "1198/1198 [==============================] - 10s 8ms/step - loss: 0.0013\n",
      "Epoch 84/100\n",
      "1198/1198 [==============================] - 10s 8ms/step - loss: 0.0013\n",
      "Epoch 85/100\n",
      "1198/1198 [==============================] - 10s 8ms/step - loss: 0.0013\n",
      "Epoch 86/100\n",
      "1198/1198 [==============================] - 10s 8ms/step - loss: 0.0014\n",
      "Epoch 87/100\n",
      "1198/1198 [==============================] - 10s 8ms/step - loss: 0.0013\n",
      "Epoch 88/100\n",
      "1198/1198 [==============================] - 10s 8ms/step - loss: 0.0012\n",
      "Epoch 89/100\n",
      "1198/1198 [==============================] - 10s 8ms/step - loss: 0.0012\n",
      "Epoch 90/100\n",
      "1198/1198 [==============================] - 10s 8ms/step - loss: 0.0013\n",
      "Epoch 91/100\n",
      "1198/1198 [==============================] - 10s 8ms/step - loss: 0.0016\n",
      "Epoch 92/100\n",
      "1198/1198 [==============================] - 10s 8ms/step - loss: 0.0012\n",
      "Epoch 93/100\n",
      "1198/1198 [==============================] - 10s 8ms/step - loss: 0.0012\n",
      "Epoch 94/100\n",
      "1198/1198 [==============================] - 10s 8ms/step - loss: 0.0014\n",
      "Epoch 95/100\n",
      "1198/1198 [==============================] - 11s 9ms/step - loss: 0.0015\n",
      "Epoch 96/100\n"
     ]
    },
    {
     "name": "stdout",
     "output_type": "stream",
     "text": [
      "1198/1198 [==============================] - 13s 11ms/step - loss: 0.0013\n",
      "Epoch 97/100\n",
      "1198/1198 [==============================] - 11s 9ms/step - loss: 0.0012\n",
      "Epoch 98/100\n",
      "1198/1198 [==============================] - 10s 8ms/step - loss: 0.0012\n",
      "Epoch 99/100\n",
      "1198/1198 [==============================] - 13s 11ms/step - loss: 0.0013\n",
      "Epoch 100/100\n",
      "1198/1198 [==============================] - 12s 10ms/step - loss: 0.0010\n"
     ]
    },
    {
     "data": {
      "text/plain": [
       "<keras.callbacks.History at 0x1a27741320>"
      ]
     },
     "execution_count": 14,
     "metadata": {},
     "output_type": "execute_result"
    }
   ],
   "source": [
    "#2.7 FITTING THE RNN TO THE TRAINING SET:\n",
    "regressor.fit(X_train, y_train, epochs = 100, batch_size = 32)\n",
    "#we will update the stock prices in every 32 stock prices"
   ]
  },
  {
   "cell_type": "markdown",
   "metadata": {},
   "source": [
    "# Part 3: Making the predictions and visualizing the results"
   ]
  },
  {
   "cell_type": "code",
   "execution_count": 16,
   "metadata": {},
   "outputs": [],
   "source": [
    "# 3.1: Getting the real stock price of January 2017\n",
    "dataset_test = pd.read_csv('Google_Stock_Price_Test.csv')\n",
    "real_stock_price = dataset_test.iloc[:, 1:2].values\n",
    "#we already know the stock prices for january 2017, but the model is not trained on this.\n",
    "\n",
    "# 3.2: Getting the predicted stock price of 2017\n",
    "#this is the predicted results for january 2017\n",
    "#1. key point:\n",
    "#we trained our model to be able to predict the stock prices according to previous 60 days\n",
    "#and therefore, to predict each stock price of each financial day of Jan 2017, we will need the 60 previous stock prices, before the actual day.\n",
    "\n",
    "#2. key point: \n",
    "#in order to get each day of jan 2017 the 60 previous stock prices, we will need both the training and test data\n",
    "#because we will have some of the 60 days from the training set, becuase they will be from Dec 2016 and we will also have some from the jan\n",
    "#therefore, we need concatinate the training and the test set.\n",
    "\n",
    "dataset_total = pd.concat((dataset_train['Open'], dataset_test['Open']), axis = 0)\n",
    "inputs = dataset_total[len(dataset_total) - len(dataset_test) - 60:].values\n",
    "inputs = inputs.reshape(-1,1)\n",
    "inputs = sc.transform(inputs)\n",
    "# concat function: we united the two sets by rows (axis =0). we only have the 'open' column\n",
    "# inputs: the stock prices of the 60 previous stock prices (equal to 3 months of financial day)\n",
    "# len(dataset_total) - len(dataset_test) - 60: this is the lower bound\n",
    "# upper bound is the last index\n",
    "# inputs.reshape: this will get the inputs in one column\n",
    "# sc.transform(inputs): scaling the inputs\n",
    "\n",
    "X_test = []\n",
    "for i in range(60, 80):\n",
    "    X_test.append(inputs[i-60:i, 0])\n",
    "\n",
    "X_test = np.array(X_test)\n",
    "X_test = np.reshape(X_test, (X_test.shape[0], X_test.shape[1], 1))\n",
    "\n",
    "predicted_stock_price = regressor.predict(X_test)\n",
    "predicted_stock_price = sc.inverse_transform(predicted_stock_price)\n",
    "\n",
    "#our test set only has 20 financial days (equals to 1 month=jan), therefore the upper bound is 80"
   ]
  },
  {
   "cell_type": "code",
   "execution_count": 17,
   "metadata": {},
   "outputs": [
    {
     "data": {
      "image/png": "[encoded data removed]",
      "text/plain": [
       "<matplotlib.figure.Figure at 0x1a2a4b2160>"
      ]
     },
     "metadata": {},
     "output_type": "display_data"
    }
   ],
   "source": [
    "#3.3 Visualising the results\n",
    "plt.plot(real_stock_price, color = 'red', label = 'Real Google Stock Price')\n",
    "plt.plot(predicted_stock_price, color = 'blue', label = 'Predicted Google Stock Price')\n",
    "plt.title('Google Stock Price Prediction')\n",
    "plt.xlabel('Time')\n",
    "plt.ylabel('Google Stock Price')\n",
    "plt.legend()\n",
    "plt.show()\n"
   ]
  },
  {
   "cell_type": "code",
   "execution_count": 19,
   "metadata": {},
   "outputs": [
    {
     "data": {
      "text/plain": [
       "16.128099872528104"
      ]
     },
     "execution_count": 19,
     "metadata": {},
     "output_type": "execute_result"
    }
   ],
   "source": [
    "import math\n",
    "from sklearn.metrics import mean_squared_error\n",
    "rmse = math.sqrt(mean_squared_error(real_stock_price, predicted_stock_price))\n",
    "rmse"
   ]
  }
 ],
 "metadata": {
  "kernelspec": {
   "display_name": "Python 3",
   "language": "python",
   "name": "python3"
  },
  "language_info": {
   "codemirror_mode": {
    "name": "ipython",
    "version": 3
   },
   "file_extension": ".py",
   "mimetype": "text/x-python",
   "name": "python",
   "nbconvert_exporter": "python",
   "pygments_lexer": "ipython3",
   "version": "3.6.0"
  },
  "varInspector": {
   "cols": {
    "lenName": 16,
    "lenType": 16,
    "lenVar": 40
   },
   "kernels_config": {
    "python": {
     "delete_cmd_postfix": "",
     "delete_cmd_prefix": "del ",
     "library": "var_list.py",
     "varRefreshCmd": "print(var_dic_list())"
    },
    "r": {
     "delete_cmd_postfix": ") ",
     "delete_cmd_prefix": "rm(",
     "library": "var_list.r",
     "varRefreshCmd": "cat(var_dic_list()) "
    }
   },
   "position": {
    "height": "363px",
    "left": "74px",
    "right": "20px",
    "top": "133px",
    "width": "498px"
   },
   "types_to_exclude": [
    "module",
    "function",
    "builtin_function_or_method",
    "instance",
    "_Feature"
   ],
   "window_display": false
  }
 },
 "nbformat": 4,
 "nbformat_minor": 2
}
